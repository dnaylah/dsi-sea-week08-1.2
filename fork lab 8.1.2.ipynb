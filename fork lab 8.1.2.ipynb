{
 "cells": [
  {
   "cell_type": "markdown",
   "metadata": {},
   "source": [
    "# Combinations\n",
    "\n",
    "### A combination is a selection of all or part of a set of objects, without regard to the order in which objects are selected.\n",
    "\n",
    "#### For example, suppose we have a set of three letters: A, B, and C. We might ask how many ways we can select 2 letters from that set. Each possible selection would be an example of a combination. The complete list of possible selections would be: AB, AC, and BC.\n",
    "\n",
    "#### When statisticians refer to combinations, they use a specific terminology. They describe combinations as n distinct objects taken r at a time. Translation: n refers to the number of objects from which the combination is formed; and r refers to the number of objects used to form the combination. Consider the example from the previous paragraph. The combinations were formed from 3 letters (A, B, and C), so n = 3; and each combination consisted of 2 letters, so r = 2.\n",
    "\n",
    "* Note that AB and BA are considered to be one combination, because the order in which objects are selected does not matter. This is the key distinction between a combination and a permutation. A combination focuses on the selection of objects without regard to the order in which they are selected. A permutation, in contrast, focuses on the arrangement of objects with regard to the order in which they are arranged.\n",
    "\n"
   ]
  },
  {
   "cell_type": "markdown",
   "metadata": {},
   "source": [
    "## Problem 1: \n",
    "\n",
    "* Write a function that computes the number of combinations, given **n** distinct objects taken **r** at a time"
   ]
  },
  {
   "cell_type": "code",
   "execution_count": 41,
   "metadata": {
    "collapsed": true
   },
   "outputs": [],
   "source": [
    "def combo(n,k):\n",
    "    print \"n: \",n\n",
    "    print \"k: \",k\n",
    "    diff = n-k\n",
    "    print \"diff: \", diff\n",
    "    fac_numerator = 1\n",
    "    fac_diff_denom = 1\n",
    "    fac_k= 1\n",
    "    for i in range(n+1):\n",
    "        if i != 0:\n",
    "            fac_numerator *= i\n",
    "    for j in range(diff+1):\n",
    "        if j != 0:\n",
    "            fac_diff_denom *= j\n",
    "    for k in range(k+1):\n",
    "        if k != 0:\n",
    "            fac_k *= k\n",
    "    return fac_numerator / fac_diff_denom * fac_k"
   ]
  },
  {
   "cell_type": "code",
   "execution_count": 42,
   "metadata": {
    "collapsed": false
   },
   "outputs": [
    {
     "name": "stdout",
     "output_type": "stream",
     "text": [
      "n:  10\n",
      "k:  5\n",
      "diff:  5\n"
     ]
    },
    {
     "data": {
      "text/plain": [
       "3628800"
      ]
     },
     "execution_count": 42,
     "metadata": {},
     "output_type": "execute_result"
    }
   ],
   "source": [
    "combo(10,5)"
   ]
  },
  {
   "cell_type": "code",
   "execution_count": 5,
   "metadata": {
    "collapsed": false
   },
   "outputs": [
    {
     "name": "stdout",
     "output_type": "stream",
     "text": [
      "n:  10\n",
      "k:  5\n",
      "3628800\n"
     ]
    }
   ],
   "source": [
    "import math\n",
    "\n",
    "def combinations(n,k):\n",
    "    diff = n - k\n",
    "    return math.factorial(n) / math.factorial(diff) * math.factorial(k)\n",
    "\n",
    "n = 10\n",
    "k = 5\n",
    "print \"n: \" , n\n",
    "print \"k: \" , k\n",
    "print  combinations(n,k)"
   ]
  },
  {
   "cell_type": "markdown",
   "metadata": {},
   "source": [
    "# Permutations\n",
    "\n",
    "### A permutation is an arrangement of all or part of a set of objects, with regard to the order of the arrangement.\n",
    "\n",
    "#### For example, suppose we have a set of three letters: A, B, and C. We might ask how many ways we can arrange 2 letters from that set. Each possible arrangement would be an example of a permutation. The complete list of possible permutations would be: AB, AC, BA, BC, CA, and CB.\n",
    "\n",
    "#### When statisticians refer to permutations, they use a specific terminology. They describe permutations as n distinct objects taken r at a time. Translation: n refers to the number of objects from which the permutation is formed; and r refers to the number of objects used to form the permutation. Consider the example from the previous paragraph. The permutations were formed from 3 letters (A, B, and C), so n = 3; and each permutation consisted of 2 letters, so r = 2."
   ]
  },
  {
   "cell_type": "markdown",
   "metadata": {},
   "source": [
    "## Problem 2: \n",
    "\n",
    "* Write a function that computes the number of permutations, given **n** distinct objects taken **r** at a time"
   ]
  },
  {
   "cell_type": "code",
   "execution_count": 44,
   "metadata": {
    "collapsed": false
   },
   "outputs": [
    {
     "name": "stdout",
     "output_type": "stream",
     "text": [
      "n:  10\n",
      "k:  5\n",
      "diff:  5\n",
      "30240\n"
     ]
    }
   ],
   "source": [
    "def perms(n,k):\n",
    "    print \"n: \",n\n",
    "    print \"k: \",k\n",
    "    diff = n-k\n",
    "    print \"diff: \", diff\n",
    "    fac_numerator = 1\n",
    "    fac_diff_denom = 1\n",
    "    for i in range(n+1):\n",
    "        if i != 0:\n",
    "            fac_numerator *= i\n",
    "    for j in range(diff+1):\n",
    "        if j != 0:\n",
    "            fac_diff_denom *= j\n",
    "    return fac_numerator / fac_diff_denom\n",
    "\n",
    "\n",
    "print  permutations(10,5)"
   ]
  },
  {
   "cell_type": "code",
   "execution_count": 45,
   "metadata": {
    "collapsed": false
   },
   "outputs": [
    {
     "data": {
      "text/plain": [
       "30240"
      ]
     },
     "execution_count": 45,
     "metadata": {},
     "output_type": "execute_result"
    }
   ],
   "source": [
    "def permutations(n,k):\n",
    "    diff = n - k\n",
    "    return math.factorial(n) / math.factorial(diff) \n",
    "permutations(10,5)"
   ]
  },
  {
   "cell_type": "markdown",
   "metadata": {},
   "source": [
    "## Binomial Distribution\n",
    "\n",
    "### Gives the discrete probability distribution of obtaining exactly n successes out of N  Trials. Below is some cool code to quickly create benoulli trials."
   ]
  },
  {
   "cell_type": "code",
   "execution_count": 9,
   "metadata": {
    "collapsed": false
   },
   "outputs": [
    {
     "name": "stdout",
     "output_type": "stream",
     "text": [
      "[0 0 0 0 0 0 0 0 0 0 1 1 1 0 1 1 0 1 1 1 0 0 0 0 0 1 1 1 1 1 1 0 1 1 1 0 0\n",
      " 1 0 1 0 0 1 1 1 0 1 1 0 1 1 1 0 0 1 1 1 0 0 1 1 1 0 1 0 1 1 0 0 1 1 0 1 1\n",
      " 0 0 0 0 1 1 0 1 1 1 1 1 0 0 1 0 1 1 0 1 0 1 1 1 1 0]\n"
     ]
    }
   ],
   "source": [
    "# Using Bernoulli to simulate a coin toss\n",
    "import matplotlib.gridspec as gridspec\n",
    "\n",
    "from scipy.stats import bernoulli \n",
    "import numpy as np\n",
    "\n",
    "prob = .5 \n",
    "bernol = bernoulli(prob)\n",
    "\n",
    "def bern(n):\n",
    "    return bernol.rvs(n)# flip it n times\n",
    "\n",
    "print(bern(100))"
   ]
  },
  {
   "cell_type": "markdown",
   "metadata": {},
   "source": [
    "## Problem 3:\n",
    "* Write a function that creates a binomial distribution graph given **n** coin flips"
   ]
  },
  {
   "cell_type": "code",
   "execution_count": 40,
   "metadata": {
    "collapsed": false
   },
   "outputs": [
    {
     "data": {
      "text/plain": [
       "(array([   1.,    9.,   45.,  114.,  195.,  236.,  213.,  128.,   47.,   12.]),\n",
       " array([ 0. ,  0.9,  1.8,  2.7,  3.6,  4.5,  5.4,  6.3,  7.2,  8.1,  9. ]),\n",
       " <a list of 10 Patch objects>)"
      ]
     },
     "execution_count": 40,
     "metadata": {},
     "output_type": "execute_result"
    },
    {
     "data": {
      "image/png": "[encoded data removed]",
      "text/plain": [
       "<matplotlib.figure.Figure at 0x111037fd0>"
      ]
     },
     "metadata": {},
     "output_type": "display_data"
    }
   ],
   "source": [
    "%matplotlib inline\n",
    "from scipy import stats\n",
    "import math\n",
    "import pylab\n",
    "import numpy\n",
    "import matplotlib.pyplot as plt\n",
    "\n",
    "def createBinomialDistribution(n,p):\n",
    "    #n, p = 10, .5\n",
    "    s = np.random.binomial(n, p, 1000)\n",
    "    return plt.hist(s)\n",
    "createBinomialDistribution(10,0.5)"
   ]
  },
  {
   "cell_type": "markdown",
   "metadata": {},
   "source": [
    "## Poisson Distribution\n",
    "\n",
    "### In probability theory and statistics, the Poisson distribution is a discrete probability distribution that expresses the probability of a given number of events occurring in a fixed interval of time and/or space if these events occur with a known average rate and independently of the time since the last event. The Poisson distribution can also be used for the number of events in other specified intervals such as distance, area or volume.\n",
    "\n",
    "### For instance, an individual keeping track of the amount of mail they receive each day may notice that they receive an average number of 4 letters per day. If receiving any particular piece of mail doesn't affect the arrival times of future pieces of mail, i.e., if pieces of mail from a wide range of sources arrive independently of one another, then a reasonable assumption is that the number of pieces of mail received per day obeys a Poisson distribution. Other examples that may follow a Poisson: the number of phone calls received by a call center per hour or the number of decay events per second from a radioactive source."
   ]
  },
  {
   "cell_type": "markdown",
   "metadata": {},
   "source": [
    "## Problem 4:\n",
    "* Write a function that creates a Poisson distribution graph given **n** coin flips"
   ]
  },
  {
   "cell_type": "code",
   "execution_count": 39,
   "metadata": {
    "collapsed": false
   },
   "outputs": [
    {
     "data": {
      "image/png": "[encoded data removed]",
      "text/plain": [
       "<matplotlib.figure.Figure at 0x110f6ad10>"
      ]
     },
     "metadata": {},
     "output_type": "display_data"
    }
   ],
   "source": [
    "def createPoissonDistribution(n):\n",
    "    s = np.random.poisson(n, 10000)\n",
    "    count, bins, ignored = plt.hist(s, 14, normed=True)\n",
    "    return plt.show()\n",
    "\n",
    "createPoissonDistribution(10)"
   ]
  },
  {
   "cell_type": "code",
   "execution_count": null,
   "metadata": {
    "collapsed": true
   },
   "outputs": [],
   "source": []
  }
 ],
 "metadata": {
  "anaconda-cloud": {},
  "kernelspec": {
   "display_name": "Python [conda root]",
   "language": "python",
   "name": "conda-root-py"
  },
  "language_info": {
   "codemirror_mode": {
    "name": "ipython",
    "version": 2
   },
   "file_extension": ".py",
   "mimetype": "text/x-python",
   "name": "python",
   "nbconvert_exporter": "python",
   "pygments_lexer": "ipython2",
   "version": "2.7.12"
  }
 },
 "nbformat": 4,
 "nbformat_minor": 0
}
